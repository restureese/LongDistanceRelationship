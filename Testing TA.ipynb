{
 "cells": [
  {
   "cell_type": "markdown",
   "metadata": {},
   "source": [
    "# Fungsi Mendapatkan Nilai RGB"
   ]
  },
  {
   "cell_type": "code",
   "execution_count": 3,
   "metadata": {},
   "outputs": [],
   "source": [
    "import numpy as np\n",
    "\n",
    "def get_rgb(gambar):\n",
    "    ''' Fungsi Untuk Mendapatkan Rata - Rata RGB '''\n",
    "    \n",
    "    #memisahkan channel\n",
    "    r,g,b = gambar.split()\n",
    "    \n",
    "    R = np.mean(r)\n",
    "    G = np.mean(g)\n",
    "    B = np.mean(b)\n",
    "    return R,G,B"
   ]
  },
  {
   "cell_type": "markdown",
   "metadata": {},
   "source": [
    "# Mendapatkan Data Training"
   ]
  },
  {
   "cell_type": "code",
   "execution_count": 13,
   "metadata": {},
   "outputs": [],
   "source": [
    "from PIL import Image,ImageColor\n",
    "import pandas as pd\n",
    "\n",
    "data_training = os.listdir('dataset/train')\n",
    "\n",
    "nama = []\n",
    "R = []\n",
    "G = []\n",
    "B = []\n",
    "\n",
    "for gambar in data_training:\n",
    "    img = Image.open('dataset/train/'+gambar)\n",
    "    \n",
    "    r,g,b = get_rgb(img)\n",
    "    \n",
    "    nama.append(gambar[:1])\n",
    "    R.append(r)\n",
    "    G.append(g)\n",
    "    B.append(b)\n",
    "\n",
    "data = {\n",
    "        'Gambar':nama,\n",
    "        'R':R,\n",
    "        'G':G,\n",
    "        'B':B\n",
    "    }\n",
    "\n",
    "df = pd.DataFrame(data, columns = ['Gambar','R','G','B'])\n",
    "df = df.sort_values(by=['Gambar'])\n",
    "df.to_csv(\"train.csv\")"
   ]
  },
  {
   "cell_type": "markdown",
   "metadata": {},
   "source": [
    "# Mendapatkan Data Testing"
   ]
  },
  {
   "cell_type": "code",
   "execution_count": 14,
   "metadata": {},
   "outputs": [],
   "source": [
    "data_testing = os.listdir('dataset/test')\n",
    "\n",
    "nama = []\n",
    "R = []\n",
    "G = []\n",
    "B = []\n",
    "for gambar in data_testing:\n",
    "    img = Image.open('dataset/test/'+gambar)\n",
    "    \n",
    "    r,g,b = get_rgb(img)\n",
    "    \n",
    "    nama.append(gambar[:1])\n",
    "    R.append(r)\n",
    "    G.append(g)\n",
    "    B.append(b)\n",
    "\n",
    "data = {\n",
    "        'Gambar':nama,\n",
    "        'R':R,\n",
    "        'G':G,\n",
    "        'B':B\n",
    "    }\n",
    "\n",
    "df = pd.DataFrame(data, columns = ['Gambar','R','G','B'])\n",
    "df = df.sort_values(by=['Gambar'])\n",
    "df.to_csv(\"test.csv\")"
   ]
  },
  {
   "cell_type": "markdown",
   "metadata": {},
   "source": [
    "# Preprocessing Data Training dan Data Testing"
   ]
  },
  {
   "cell_type": "markdown",
   "metadata": {},
   "source": [
    "# Data Training"
   ]
  },
  {
   "cell_type": "code",
   "execution_count": 17,
   "metadata": {},
   "outputs": [],
   "source": [
    "data_train = pd.read_csv('train.csv')\n",
    "\n",
    "X_train = []\n",
    "y_train = []\n",
    "\n",
    "for index,value in data_train.iterrows():\n",
    "    X_train.append([ value['R'],value['G'], value['B']])\n",
    "    y_train.append(value['Gambar'])"
   ]
  },
  {
   "cell_type": "markdown",
   "metadata": {},
   "source": [
    "# Data Testing"
   ]
  },
  {
   "cell_type": "code",
   "execution_count": 32,
   "metadata": {},
   "outputs": [],
   "source": [
    "data_test = pd.read_csv('test.csv')\n",
    "\n",
    "X_test = []\n",
    "y_test = []\n",
    "\n",
    "for index,value in data_test.iterrows():\n",
    "    X_test.append([ value['R'],value['G'], value['B']])\n",
    "    y_test.append(value['Gambar'])"
   ]
  },
  {
   "cell_type": "markdown",
   "metadata": {},
   "source": [
    "# Training"
   ]
  },
  {
   "cell_type": "markdown",
   "metadata": {},
   "source": [
    "# KNN"
   ]
  },
  {
   "cell_type": "code",
   "execution_count": 34,
   "metadata": {},
   "outputs": [
    {
     "data": {
      "text/plain": [
       "KNeighborsClassifier(algorithm='auto', leaf_size=30, metric='minkowski',\n",
       "                     metric_params=None, n_jobs=None, n_neighbors=3, p=2,\n",
       "                     weights='uniform')"
      ]
     },
     "execution_count": 34,
     "metadata": {},
     "output_type": "execute_result"
    }
   ],
   "source": [
    "from sklearn.neighbors import KNeighborsClassifier\n",
    "clf = KNeighborsClassifier(n_neighbors=3)\n",
    "clf.fit(X_train, y_train)"
   ]
  },
  {
   "cell_type": "code",
   "execution_count": 50,
   "metadata": {},
   "outputs": [
    {
     "name": "stdout",
     "output_type": "stream",
     "text": [
      "Akurasi Pelatihah 93.33333333333333 %\n",
      "Akurasi pengujian 100.0\n"
     ]
    }
   ],
   "source": [
    "print(\"Akurasi Pelatihah {0} %\".format(clf.score(X_train,y_train) * 100))\n",
    "print(\"Akurasi pengujian {0} %\".format(clf.score(X_test,y_test)*100))"
   ]
  },
  {
   "cell_type": "code",
   "execution_count": 43,
   "metadata": {},
   "outputs": [],
   "source": [
    "y_true = []\n",
    "for data in X_test:\n",
    "    y_true.append(clf.predict([data]))"
   ]
  },
  {
   "cell_type": "code",
   "execution_count": 47,
   "metadata": {},
   "outputs": [
    {
     "name": "stdout",
     "output_type": "stream",
     "text": [
      "              precision    recall  f1-score   support\n",
      "\n",
      "           1       1.00      1.00      1.00         5\n",
      "           2       1.00      1.00      1.00         5\n",
      "           3       1.00      1.00      1.00         5\n",
      "\n",
      "    accuracy                           1.00        15\n",
      "   macro avg       1.00      1.00      1.00        15\n",
      "weighted avg       1.00      1.00      1.00        15\n",
      "\n"
     ]
    }
   ],
   "source": [
    "from sklearn.metrics import classification_report\n",
    "target_names = ['1', '2', '3']\n",
    "print(classification_report(y_test, y_true, target_names=target_names))"
   ]
  }
 ],
 "metadata": {
  "kernelspec": {
   "display_name": "Python 3",
   "language": "python",
   "name": "python3"
  },
  "language_info": {
   "codemirror_mode": {
    "name": "ipython",
    "version": 3
   },
   "file_extension": ".py",
   "mimetype": "text/x-python",
   "name": "python",
   "nbconvert_exporter": "python",
   "pygments_lexer": "ipython3",
   "version": "3.6.5"
  }
 },
 "nbformat": 4,
 "nbformat_minor": 2
}
