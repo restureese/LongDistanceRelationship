{
 "cells": [
  {
   "cell_type": "markdown",
   "metadata": {},
   "source": [
    "# Algoritma K-Nearest Neigbors"
   ]
  },
  {
   "cell_type": "markdown",
   "metadata": {},
   "source": [
    "1. Menentukan parameter K sebagai banyaknya jumlah tetangga terdekat dengan objek baru.\n",
    "2. Menghitung jarak antar objek/data baru terhadap semua objek/data yang telah di training.\n",
    "3. Urutkan hasil perhitungan tersebut.\n",
    "4. Tentukan tetangga terdekat berdasarkan jarak minimum ke K.\n",
    "5. Tentukan kategori dari tetangga terdekat dengan objek/data.\n",
    "6. Gunakan kategori mayoritas sebagai klasifikasi objek/data baru."
   ]
  },
  {
   "cell_type": "markdown",
   "metadata": {},
   "source": [
    "# 1. Menentukan K-Fold"
   ]
  },
  {
   "cell_type": "code",
   "execution_count": null,
   "metadata": {},
   "outputs": [],
   "source": [
    "K = 3"
   ]
  },
  {
   "cell_type": "markdown",
   "metadata": {},
   "source": [
    "# 2.  Menghitung Jarak"
   ]
  },
  {
   "cell_type": "markdown",
   "metadata": {},
   "source": [
    "# Minkowsky Distance"
   ]
  },
  {
   "attachments": {
    "minkowski.png": {
     "image/png": "[encoded data removed]"
    }
   },
   "cell_type": "markdown",
   "metadata": {},
   "source": [
    "![minkowski.png](attachment:minkowski.png)"
   ]
  },
  {
   "cell_type": "code",
   "execution_count": 1,
   "metadata": {},
   "outputs": [],
   "source": [
    "def get_minkowski_distance(X,Y,p=2):\n",
    "    jumlah = sum(pow(abs(x-y),p) for x,y in zip(X, Y))\n",
    "    return jumlah ** (1/p)"
   ]
  },
  {
   "cell_type": "code",
   "execution_count": 12,
   "metadata": {},
   "outputs": [
    {
     "data": {
      "text/plain": [
       "8.372966759705923"
      ]
     },
     "execution_count": 12,
     "metadata": {},
     "output_type": "execute_result"
    }
   ],
   "source": [
    "get_minkowski_distance([0,3,4,5],[7,6,3,-1],p=3)"
   ]
  },
  {
   "cell_type": "markdown",
   "metadata": {},
   "source": [
    "# Euclidean Distance"
   ]
  },
  {
   "attachments": {
    "euclidean.png": {
     "image/png": "[encoded data removed]"
    }
   },
   "cell_type": "markdown",
   "metadata": {},
   "source": [
    "![euclidean.png](attachment:euclidean.png)"
   ]
  },
  {
   "cell_type": "code",
   "execution_count": 2,
   "metadata": {},
   "outputs": [],
   "source": [
    "from math import sqrt\n",
    "\n",
    "def get_euclidean_distance(X,Y):\n",
    "    return sqrt(sum(pow(x-y,2) for x,y in zip(X,Y)))"
   ]
  },
  {
   "cell_type": "code",
   "execution_count": 9,
   "metadata": {},
   "outputs": [
    {
     "data": {
      "text/plain": [
       "4.123105625617661"
      ]
     },
     "execution_count": 9,
     "metadata": {},
     "output_type": "execute_result"
    }
   ],
   "source": [
    "get_euclidean_distance([0,3,4,5],[7,6,3,-1])"
   ]
  },
  {
   "cell_type": "markdown",
   "metadata": {},
   "source": [
    "# Manhattan Distance"
   ]
  },
  {
   "attachments": {
    "manhattan.png": {
     "image/png": "[encoded data removed]"
    }
   },
   "cell_type": "markdown",
   "metadata": {},
   "source": [
    "![manhattan.png](attachment:manhattan.png)"
   ]
  },
  {
   "cell_type": "code",
   "execution_count": 3,
   "metadata": {},
   "outputs": [],
   "source": [
    "from math import fabs\n",
    "\n",
    "def get_manhattan_distance(X,Y):\n",
    "    return sqrt(sum(fabs(x-y) for x,y in zip(X,Y)))"
   ]
  },
  {
   "cell_type": "code",
   "execution_count": 8,
   "metadata": {},
   "outputs": [
    {
     "data": {
      "text/plain": [
       "4.123105625617661"
      ]
     },
     "execution_count": 8,
     "metadata": {},
     "output_type": "execute_result"
    }
   ],
   "source": [
    "get_manhattan_distance([0,3,4,5],[7,6,3,-1])"
   ]
  },
  {
   "cell_type": "markdown",
   "metadata": {},
   "source": [
    "# Data Training"
   ]
  },
  {
   "cell_type": "code",
   "execution_count": 5,
   "metadata": {},
   "outputs": [],
   "source": [
    "import pandas as pd\n",
    "\n",
    "data_train = pd.read_csv('train.csv')\n",
    "\n",
    "X_train = []\n",
    "Y_train = []\n",
    "\n",
    "for index,value in data_train.iterrows():\n",
    "    X_train.append([ value['R'],value['G'], value['B']])\n",
    "    Y_train.append(value['Gambar'])"
   ]
  },
  {
   "cell_type": "markdown",
   "metadata": {},
   "source": [
    "# Data Testing"
   ]
  },
  {
   "cell_type": "code",
   "execution_count": 6,
   "metadata": {},
   "outputs": [],
   "source": [
    "data_test = pd.read_csv('test.csv')\n",
    "\n",
    "X_test = []\n",
    "Y_test = []\n",
    "\n",
    "for index,value in data_test.iterrows():\n",
    "    X_test.append([ value['R'],value['G'], value['B']])\n",
    "    Y_test.append(value['Gambar'])"
   ]
  },
  {
   "cell_type": "markdown",
   "metadata": {},
   "source": [
    "# Training Model"
   ]
  },
  {
   "cell_type": "code",
   "execution_count": 46,
   "metadata": {},
   "outputs": [],
   "source": [
    "# def train(X_train,Y_train,X_test,Y_test):\n",
    "X_test = [[45.17164611816406, 42.88371276855469, 34.196792602539055],\n",
    " [36.89564514160156, 34.071929931640625, 26.27308654785156],\n",
    " [61.18663024902344, 56.822509765625, 40.34938049316406],\n",
    " [37.46755981445313, 37.30403137207031, 27.427001953125],\n",
    " [52.48924255371094, 43.32394409179688, 27.74835205078125]]\n",
    "\n",
    "Y_test = [1.0, 1.0, 1.0, 1.0, 1.0]\n",
    "\n",
    "nama = []\n",
    "R = []\n",
    "G = []\n",
    "B = []\n",
    "jarak = []\n",
    "hasil = []\n",
    "\n",
    "dict_jarak = {}\n",
    "\n",
    "for x_test,y_test in zip(X_test,Y_test):\n",
    "    data = []\n",
    "    for x_train,y_train in zip(X_train,Y_train):\n",
    "        data.append([get_minkowski_distance(x_train,x_test),y_train])\n",
    "\n",
    "#     dict_jarak.update({str(y_test):data})\n",
    "    df = pd.DataFrame(data, columns = ['jarak', 'label'])\n",
    "    df = df.sort_values(by=['jarak'])\n",
    "#     df.to_csv(str(y_test)+'.csv')\n",
    "#     print(df.head(3))\n",
    "    df = df.head(3)\n",
    "    hasil.append(df.groupby([\"label\"]).count().sort_values(by=['jarak']).tail(1).index.get_level_values('label')[0])\n",
    "    "
   ]
  },
  {
   "cell_type": "code",
   "execution_count": 47,
   "metadata": {},
   "outputs": [
    {
     "data": {
      "text/plain": [
       "[1.0, 3.0, 1.0, 3.0, 1.0]"
      ]
     },
     "execution_count": 47,
     "metadata": {},
     "output_type": "execute_result"
    }
   ],
   "source": [
    "hasil"
   ]
  },
  {
   "cell_type": "code",
   "execution_count": 48,
   "metadata": {},
   "outputs": [
    {
     "data": {
      "text/plain": [
       "{1.0}"
      ]
     },
     "execution_count": 48,
     "metadata": {},
     "output_type": "execute_result"
    }
   ],
   "source": [
    "set(Y_test) & set(hasil)"
   ]
  },
  {
   "cell_type": "code",
   "execution_count": 53,
   "metadata": {},
   "outputs": [
    {
     "data": {
      "text/plain": [
       "{1.0}"
      ]
     },
     "execution_count": 53,
     "metadata": {},
     "output_type": "execute_result"
    }
   ],
   "source": [
    "set(Y_test).intersection(hasil)"
   ]
  },
  {
   "cell_type": "code",
   "execution_count": 57,
   "metadata": {},
   "outputs": [
    {
     "data": {
      "text/plain": [
       "3"
      ]
     },
     "execution_count": 57,
     "metadata": {},
     "output_type": "execute_result"
    }
   ],
   "source": [
    "jumlah = 0\n",
    "jum = [(jumlah + 1) for a,b in zip(Y_test,hasil) if a == b]\n",
    "len(jum)"
   ]
  },
  {
   "cell_type": "code",
   "execution_count": 61,
   "metadata": {},
   "outputs": [
    {
     "data": {
      "text/plain": [
       "0.6"
      ]
     },
     "execution_count": 61,
     "metadata": {},
     "output_type": "execute_result"
    }
   ],
   "source": [
    "len(jum)/len(Y_test)"
   ]
  },
  {
   "cell_type": "code",
   "execution_count": null,
   "metadata": {},
   "outputs": [],
   "source": [
    "count()"
   ]
  }
 ],
 "metadata": {
  "kernelspec": {
   "display_name": "Python 3",
   "language": "python",
   "name": "python3"
  },
  "language_info": {
   "codemirror_mode": {
    "name": "ipython",
    "version": 3
   },
   "file_extension": ".py",
   "mimetype": "text/x-python",
   "name": "python",
   "nbconvert_exporter": "python",
   "pygments_lexer": "ipython3",
   "version": "3.6.5"
  }
 },
 "nbformat": 4,
 "nbformat_minor": 2
}
