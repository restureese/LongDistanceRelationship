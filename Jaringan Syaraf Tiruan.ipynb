{
 "cells": [
  {
   "cell_type": "code",
   "execution_count": 19,
   "metadata": {},
   "outputs": [],
   "source": [
    "from random import random\n",
    "\n",
    "class Backpropagation:\n",
    "    def __init__(self,hidden=10,learning_rate=0.1,error=0.001,epoch=10):\n",
    "        self.hidden = hidden\n",
    "        self.learning_rate = learning_rate\n",
    "        self.error = error\n",
    "        self.epoch = epoch\n",
    "        self.bobot = {}\n",
    "        self.bias = []\n",
    "    \n",
    "    \n",
    "    def inisialisasi(self,X,y):\n",
    "        self.bias = [random() for i in range(2)]\n",
    "        self.bobot['hidden'] = [ random() for i in range(self.hidden) ]\n",
    "        self.bobot['y'] = [ random() for i in range(len(y)) ]\n",
    "    \n",
    "    \n",
    "    def train(self,X,y):\n",
    "        self.inisialisasi(X,y)\n",
    "        for iterasi in range(self.epoch):\n",
    "            "
   ]
  },
  {
   "cell_type": "code",
   "execution_count": 25,
   "metadata": {},
   "outputs": [],
   "source": [
    "bp = Backpropagation(hidden=6)"
   ]
  },
  {
   "cell_type": "code",
   "execution_count": 26,
   "metadata": {},
   "outputs": [],
   "source": [
    "X = [[1,1,1],[2,2,2]]\n",
    "y = [1,2]\n",
    "\n",
    "bp.inisialisasi(X,y)"
   ]
  },
  {
   "cell_type": "code",
   "execution_count": 27,
   "metadata": {},
   "outputs": [
    {
     "data": {
      "text/plain": [
       "{'hidden': [0.040810180414921904,\n",
       "  0.6822737302212176,\n",
       "  0.912324319213539,\n",
       "  0.9159674213180364,\n",
       "  0.6641342547561646,\n",
       "  0.06941719792503576],\n",
       " 'y': [0.8888463673808434, 0.8375528847997235]}"
      ]
     },
     "execution_count": 27,
     "metadata": {},
     "output_type": "execute_result"
    }
   ],
   "source": [
    "bp.bobot"
   ]
  },
  {
   "cell_type": "code",
   "execution_count": null,
   "metadata": {},
   "outputs": [],
   "source": []
  }
 ],
 "metadata": {
  "kernelspec": {
   "display_name": "Python 3",
   "language": "python",
   "name": "python3"
  },
  "language_info": {
   "codemirror_mode": {
    "name": "ipython",
    "version": 3
   },
   "file_extension": ".py",
   "mimetype": "text/x-python",
   "name": "python",
   "nbconvert_exporter": "python",
   "pygments_lexer": "ipython3",
   "version": "3.6.5"
  }
 },
 "nbformat": 4,
 "nbformat_minor": 2
}
