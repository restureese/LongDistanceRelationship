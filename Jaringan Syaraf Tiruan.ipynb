{
 "cells": [
  {
   "cell_type": "code",
   "execution_count": 23,
   "metadata": {
    "slideshow": {
     "slide_type": "-"
    }
   },
   "outputs": [],
   "source": [
    "from random import random\n",
    "\n",
    "class Backpropagation:\n",
    "    def __init__(self,hidden=10,learning_rate=0.1,error=0.001,epoch=10):\n",
    "        self.hidden = hidden\n",
    "        self.learning_rate = learning_rate\n",
    "        self.error = error\n",
    "        self.epoch = epoch\n",
    "        self.bobot = {}\n",
    "        self.bias = []\n",
    "    \n",
    "    \n",
    "    def inisialisasi(self,X,y):\n",
    "        self.bias = [ random() for i in range(2) ]\n",
    "        \n",
    "        self.bobot['hidden'] = [ random() for i in range(self.hidden) ]\n",
    "        self.bobot['y'] = [ random() for i in range(len(y)) ]\n",
    "    \n",
    "    def maju(self,X,y):\n",
    "        z_in = []\n",
    "        for inputs, target in zip(X,y):\n",
    "            for x in inputs:\n",
    "                jumlah = 0\n",
    "                for bobot in self.bobot['hidden']:\n",
    "                    jumlah = jumlah + bobot * x\n",
    "                \n",
    "                z_in.append(jumlah + self.bias[0])\n",
    "                \n",
    "    \n",
    "    \n",
    "    def train(self,X,y):\n",
    "        self.inisialisasi(X,y)\n",
    "        error = 0\n",
    "        iterasi = 0\n",
    "#         while error > self.error and iterasi < self.epoch:\n",
    "        return self.maju(X,y)\n",
    "            "
   ]
  },
  {
   "cell_type": "code",
   "execution_count": 26,
   "metadata": {},
   "outputs": [],
   "source": [
    "bp = Backpropagation(hidden=6)"
   ]
  },
  {
   "cell_type": "code",
   "execution_count": 27,
   "metadata": {},
   "outputs": [],
   "source": [
    "X = [[1,1,1]]\n",
    "y = [1,2]\n",
    "\n",
    "bp.train(X,y)"
   ]
  },
  {
   "cell_type": "code",
   "execution_count": 15,
   "metadata": {},
   "outputs": [
    {
     "data": {
      "text/plain": [
       "{'hidden': [0.9046151768930781,\n",
       "  0.5748475600469485,\n",
       "  0.5358809777909284,\n",
       "  0.18670179875014536,\n",
       "  0.7623541221736483,\n",
       "  0.23709441707119394],\n",
       " 'y': [0.6125881241668589, 0.8892182914795849]}"
      ]
     },
     "execution_count": 15,
     "metadata": {},
     "output_type": "execute_result"
    }
   ],
   "source": [
    "bp.bobot"
   ]
  },
  {
   "cell_type": "code",
   "execution_count": null,
   "metadata": {},
   "outputs": [],
   "source": []
  }
 ],
 "metadata": {
  "kernelspec": {
   "display_name": "Python 3",
   "language": "python",
   "name": "python3"
  },
  "language_info": {
   "codemirror_mode": {
    "name": "ipython",
    "version": 3
   },
   "file_extension": ".py",
   "mimetype": "text/x-python",
   "name": "python",
   "nbconvert_exporter": "python",
   "pygments_lexer": "ipython3",
   "version": "3.6.5"
  }
 },
 "nbformat": 4,
 "nbformat_minor": 2
}
